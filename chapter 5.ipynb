{
 "cells": [
  {
   "cell_type": "code",
   "execution_count": 7,
   "metadata": {},
   "outputs": [
    {
     "name": "stdout",
     "output_type": "stream",
     "text": [
      "10\n"
     ]
    }
   ],
   "source": [
    "count= 0 \n",
    "for i in range(50):\n",
    "    temp = i**2\n",
    "    if (temp) % 10  == 1 :\n",
    "        count+= 1\n",
    "        \n",
    "print(count)"
   ]
  },
  {
   "cell_type": "code",
   "execution_count": 13,
   "metadata": {},
   "outputs": [
    {
     "name": "stdout",
     "output_type": "stream",
     "text": [
      "10\n",
      "10\n"
     ]
    }
   ],
   "source": [
    "count1 = 0\n",
    "count2 = 0\n",
    "for i in range(50):\n",
    "    temp = i**2\n",
    "    if (temp) % 10  == 4 :\n",
    "        count1 += 1\n",
    "    if (temp) % 10  == 9 :\n",
    "        count2 += 1\n",
    "print(count1,count2,sep='\\n')"
   ]
  },
  {
   "cell_type": "code",
   "execution_count": 19,
   "metadata": {},
   "outputs": [
    {
     "name": "stdout",
     "output_type": "stream",
     "text": [
      "1999\n"
     ]
    }
   ],
   "source": [
    "tot = 0\n",
    "for i in range(2000):\n",
    "    if i % 1 == 0:\n",
    "        tot = i \n",
    "    elif i % 2 != 0:\n",
    "        tot += 2\n",
    "\n",
    "print(tot)"
   ]
  },
  {
   "cell_type": "code",
   "execution_count": 38,
   "metadata": {},
   "outputs": [
    {
     "name": "stdout",
     "output_type": "stream",
     "text": [
      "enter a num6\n",
      "6\n"
     ]
    }
   ],
   "source": [
    "tot1 = 0 \n",
    "num =int(input(\"enter a num\"))\n",
    "for i in range(1,num):\n",
    "    if num % i ==0 :\n",
    "        tot1 += i\n",
    "print(tot1)"
   ]
  },
  {
   "cell_type": "code",
   "execution_count": 57,
   "metadata": {},
   "outputs": [
    {
     "name": "stdout",
     "output_type": "stream",
     "text": [
      "[6, 28, 496, 8128]\n"
     ]
    }
   ],
   "source": [
    "#perfect number\n",
    "tot2 =0\n",
    "ls = []\n",
    "for num in range(1,10000):\n",
    "    for i in range(1,num):\n",
    "        if num % i == 0 :\n",
    "            #print(i)\n",
    "            tot2 += i\n",
    "            #print(tot2,num)\n",
    "    if(tot2 == num):\n",
    "        ls.append(num)\n",
    "    tot2 = 0\n",
    "print(ls)"
   ]
  },
  {
   "cell_type": "code",
   "execution_count": 79,
   "metadata": {},
   "outputs": [
    {
     "name": "stdout",
     "output_type": "stream",
     "text": [
      "enter a num200\n",
      "[2, 4, 5, 8, 10, 20, 25, 40, 50, 100]\n",
      "this is not a squar free num\n"
     ]
    }
   ],
   "source": [
    "divisors = []\n",
    "num =int(input(\"enter a num\"))\n",
    "for i in range(2,num):\n",
    "    if num % i ==0 :\n",
    "        divisors.append(i)\n",
    "print(divisors)\n",
    "flag = False\n",
    "for i in divisors:\n",
    "    temp =round(i ** .5,2)\n",
    "    #print((temp - int(temp)) > 0)   \n",
    "    if (temp - int(temp)) == 0 :\n",
    "        flag = True\n",
    "        break ;\n",
    "        print(temp)\n",
    "if flag :\n",
    "    print('this is not a squar free num')\n",
    "else :\n",
    "    print('this is a squar free num')"
   ]
  },
  {
   "cell_type": "code",
   "execution_count": 81,
   "metadata": {},
   "outputs": [
    {
     "name": "stdout",
     "output_type": "stream",
     "text": [
      "1 2 3\n",
      "2 3 1\n"
     ]
    }
   ],
   "source": [
    "#x , y , z   x =y     y = z   z = x\n",
    "x,y,z= 1,2,3\n",
    "print (x,y,z)\n",
    "x,y,z = y, z, x\n",
    "print (x,y,z)"
   ]
  },
  {
   "cell_type": "code",
   "execution_count": 94,
   "metadata": {},
   "outputs": [
    {
     "name": "stdout",
     "output_type": "stream",
     "text": [
      "30\n"
     ]
    }
   ],
   "source": [
    "c = 0\n",
    "for i in range(2,1000):\n",
    "    temp =round(i ** .5,2)\n",
    "    #print((temp - int(temp)) > 0)   \n",
    "    if (temp - int(temp)) == 0 :\n",
    "        c += 1\n",
    "        #print(i)\n",
    "        #print(temp)\n",
    "\n",
    "print(c)"
   ]
  },
  {
   "cell_type": "code",
   "execution_count": 99,
   "metadata": {},
   "outputs": [
    {
     "name": "stdout",
     "output_type": "stream",
     "text": [
      "7\n",
      "Enter a Guess 7\n",
      "9\n",
      "Enter a Guess 9\n",
      "3\n",
      "Enter a Guess 3\n",
      "10\n",
      "Enter a Guess 1\n",
      "7\n",
      "Enter a Guess 2\n",
      "5\n",
      "Enter a Guess 3\n",
      "8\n",
      "Enter a Guess 4\n",
      "7\n",
      "Enter a Guess 5\n",
      "8\n",
      "Enter a Guess 6\n",
      "9\n",
      "Enter a Guess 4\n",
      "23\n"
     ]
    }
   ],
   "source": [
    "#######################      12\n",
    "import random as rand\n",
    "score = 0\n",
    "for i in range(10):\n",
    "    r= rand.randint(1,10)\n",
    "    print(r)\n",
    "    guess= int(input(\"Enter a Guess \"))\n",
    "    if guess == r:\n",
    "        score += 10\n",
    "    else:\n",
    "        score -= 1\n",
    "        \n",
    "print(score)"
   ]
  },
  {
   "cell_type": "code",
   "execution_count": 102,
   "metadata": {},
   "outputs": [
    {
     "name": "stdout",
     "output_type": "stream",
     "text": [
      "Question 6 x 10  =  60\n",
      "right!!!\n",
      "Question 9 x 7  =  63\n",
      "right!!!\n",
      "Question 10 x 8  =  80\n",
      "right!!!\n",
      "Question 1 x 7  =  7\n",
      "right!!!\n",
      "excelent \n"
     ]
    }
   ],
   "source": [
    "#############################13\n",
    "count = 0\n",
    "import random as rand\n",
    "num = 5\n",
    "for i in range(1,num):\n",
    "    r1 = rand.randint(0,10)\n",
    "    r2 = rand.randint(0,10)\n",
    "    mul = r1 * r2 \n",
    "    if eval(input(f'Question {r1} x {r2}  =  ')) == mul:\n",
    "        print('right!!!')\n",
    "        count += 1\n",
    "    else:\n",
    "        print('wrong')\n",
    "        \n",
    "if count  == num -1 :\n",
    "    print('excelent ')\n",
    "else :\n",
    "    print('Enta 7mar wala enta fahem ay 7aga')"
   ]
  },
  {
   "cell_type": "code",
   "execution_count": null,
   "metadata": {},
   "outputs": [],
   "source": [
    "################      14\n",
    "مش حاله كسل بصراحة"
   ]
  },
  {
   "cell_type": "code",
   "execution_count": null,
   "metadata": {},
   "outputs": [],
   "source": []
  },
  {
   "cell_type": "code",
   "execution_count": null,
   "metadata": {},
   "outputs": [],
   "source": []
  },
  {
   "cell_type": "code",
   "execution_count": null,
   "metadata": {},
   "outputs": [],
   "source": []
  },
  {
   "cell_type": "code",
   "execution_count": null,
   "metadata": {},
   "outputs": [],
   "source": []
  }
 ],
 "metadata": {
  "kernelspec": {
   "display_name": "Python 3",
   "language": "python",
   "name": "python3"
  },
  "language_info": {
   "codemirror_mode": {
    "name": "ipython",
    "version": 3
   },
   "file_extension": ".py",
   "mimetype": "text/x-python",
   "name": "python",
   "nbconvert_exporter": "python",
   "pygments_lexer": "ipython3",
   "version": "3.8.5"
  }
 },
 "nbformat": 4,
 "nbformat_minor": 4
}
