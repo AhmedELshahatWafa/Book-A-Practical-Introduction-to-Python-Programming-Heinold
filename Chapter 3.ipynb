{
 "cells": [
  {
   "cell_type": "code",
   "execution_count": 6,
   "metadata": {},
   "outputs": [],
   "source": [
    "import random \n",
    "for i in range(50):\n",
    "    #print(random.randint(3,6))\n",
    "    pass"
   ]
  },
  {
   "cell_type": "code",
   "execution_count": 8,
   "metadata": {},
   "outputs": [],
   "source": [
    "for i in range(50):\n",
    "    #print(random.randint(1,50)**random.randint(2,5))\n",
    "    pass"
   ]
  },
  {
   "cell_type": "code",
   "execution_count": 16,
   "metadata": {},
   "outputs": [
    {
     "name": "stdout",
     "output_type": "stream",
     "text": [
      "Ahmed Elshahat\n",
      "Ahmed Elshahat\n"
     ]
    }
   ],
   "source": [
    "for i in range(random.randint(1,10)):\n",
    "    print(\"Ahmed Elshahat\")\n",
    "    "
   ]
  },
  {
   "cell_type": "code",
   "execution_count": 32,
   "metadata": {},
   "outputs": [
    {
     "name": "stdout",
     "output_type": "stream",
     "text": [
      "6.31\n"
     ]
    }
   ],
   "source": [
    "print(round(random.uniform(1.00,10.00),2))"
   ]
  },
  {
   "cell_type": "code",
   "execution_count": 35,
   "metadata": {},
   "outputs": [
    {
     "name": "stdout",
     "output_type": "stream",
     "text": [
      "2\n",
      "2\n",
      "3\n",
      "3\n",
      "5\n",
      "1\n",
      "2\n",
      "7\n"
     ]
    }
   ],
   "source": [
    "for i in range(2,10):\n",
    "    print(random.randint(1,i))"
   ]
  },
  {
   "cell_type": "code",
   "execution_count": 40,
   "metadata": {},
   "outputs": [
    {
     "name": "stdout",
     "output_type": "stream",
     "text": [
      "enter the first num 10\n",
      "enter the sec num 20\n",
      "0.3333333333333333\n"
     ]
    }
   ],
   "source": [
    "x = eval(input('enter the first num '))\n",
    "y = eval(input('enter the sec num '))\n",
    "\n",
    "z = abs(x- y) /(x+y)\n",
    "print(z)"
   ]
  },
  {
   "cell_type": "code",
   "execution_count": 7,
   "metadata": {},
   "outputs": [
    {
     "name": "stdout",
     "output_type": "stream",
     "text": [
      "enter an angel between -180 and 180 -180\n",
      "180\n"
     ]
    }
   ],
   "source": [
    "a = eval(input('enter an angel between -180 and 180 '))\n",
    "print(a%360)\n"
   ]
  },
  {
   "cell_type": "code",
   "execution_count": 45,
   "metadata": {},
   "outputs": [
    {
     "name": "stdout",
     "output_type": "stream",
     "text": [
      "Enter Seconds 200\n",
      "3 minutes and 20 seconds \n"
     ]
    }
   ],
   "source": [
    "secs = eval(input('Enter Seconds ')) \n",
    "mins = secs // 60 \n",
    "remainSecs = secs % 60 \n",
    "print(f'{mins} minutes and {remainSecs} seconds ')"
   ]
  },
  {
   "cell_type": "code",
   "execution_count": 48,
   "metadata": {},
   "outputs": [
    {
     "name": "stdout",
     "output_type": "stream",
     "text": [
      "Enter hour10\n",
      "how many hours ahead5\n",
      "3\n"
     ]
    }
   ],
   "source": [
    "hour = eval(input('Enter hour'))\n",
    "hmHours = eval(input('how many hours ahead'))\n",
    "\n",
    "hour += hmHours \n",
    "if hour > 12:\n",
    "    hour = hour -12\n",
    "print(hour)"
   ]
  },
  {
   "cell_type": "code",
   "execution_count": 54,
   "metadata": {},
   "outputs": [
    {
     "name": "stdout",
     "output_type": "stream",
     "text": [
      "Enter a power5\n"
     ]
    },
    {
     "data": {
      "text/plain": [
       "2.0"
      ]
     },
     "execution_count": 54,
     "metadata": {},
     "output_type": "execute_result"
    }
   ],
   "source": [
    "import math\n",
    "power = eval(input('Enter a power'))\n",
    "math.fmod(math.pow(2 ,power),10)"
   ]
  },
  {
   "cell_type": "code",
   "execution_count": 55,
   "metadata": {},
   "outputs": [
    {
     "name": "stdout",
     "output_type": "stream",
     "text": [
      "Enter a power5\n"
     ]
    },
    {
     "data": {
      "text/plain": [
       "32.0"
      ]
     },
     "execution_count": 55,
     "metadata": {},
     "output_type": "execute_result"
    }
   ],
   "source": [
    "power = eval(input('Enter a power'))\n",
    "math.fmod(math.pow(2 ,power),100)"
   ]
  },
  {
   "cell_type": "code",
   "execution_count": 57,
   "metadata": {},
   "outputs": [
    {
     "name": "stdout",
     "output_type": "stream",
     "text": [
      "Enter a power20\n",
      "How many digits u want to get5\n"
     ]
    },
    {
     "data": {
      "text/plain": [
       "48576.0"
      ]
     },
     "execution_count": 57,
     "metadata": {},
     "output_type": "execute_result"
    }
   ],
   "source": [
    "power = eval(input('Enter a power'))\n",
    "digits = 10 ** eval(input('How many digits u want to get'))  \n",
    "\n",
    "math.fmod(math.pow(2 ,power),digits)"
   ]
  },
  {
   "cell_type": "code",
   "execution_count": 60,
   "metadata": {},
   "outputs": [
    {
     "name": "stdout",
     "output_type": "stream",
     "text": [
      "Enter weight in kg60\n",
      "150.0\n"
     ]
    }
   ],
   "source": [
    "weightKg = eval(input('Enter weight in kg'))\n",
    "weightPounds = weightKg  * 2.5 \n",
    "print(round(weightPounds ,-1))"
   ]
  },
  {
   "cell_type": "code",
   "execution_count": 62,
   "metadata": {},
   "outputs": [
    {
     "name": "stdout",
     "output_type": "stream",
     "text": [
      "Enter A num 5\n"
     ]
    },
    {
     "data": {
      "text/plain": [
       "120"
      ]
     },
     "execution_count": 62,
     "metadata": {},
     "output_type": "execute_result"
    }
   ],
   "source": [
    "n = eval(input('Enter A num '))\n",
    "math.factorial(n)"
   ]
  },
  {
   "cell_type": "code",
   "execution_count": 76,
   "metadata": {},
   "outputs": [
    {
     "name": "stdout",
     "output_type": "stream",
     "text": [
      "enter an angle80\n",
      "-0.9938886539233752\n",
      "-0.11038724383904756\n",
      "9.00365494560708\n"
     ]
    }
   ],
   "source": [
    "######################################################################\n",
    "import numpy as np\n",
    "angle = eval(input('enter an angle'))\n",
    "print(math.sin(angle),math.cos(angle),math.tan(angle),sep = '\\n')"
   ]
  },
  {
   "cell_type": "code",
   "execution_count": null,
   "metadata": {},
   "outputs": [],
   "source": [
    "######################################################################"
   ]
  },
  {
   "cell_type": "code",
   "execution_count": 82,
   "metadata": {},
   "outputs": [
    {
     "name": "stdout",
     "output_type": "stream",
     "text": [
      "enter a year2020\n",
      "21 Th Centuary\n"
     ]
    }
   ],
   "source": [
    "year = int(input('enter a year'))\n",
    "print(math.floor(year/100)+1, 'Th Centuary')"
   ]
  },
  {
   "cell_type": "code",
   "execution_count": 100,
   "metadata": {},
   "outputs": [
    {
     "name": "stdout",
     "output_type": "stream",
     "text": [
      "enter money ls than 1$55\n",
      "2\n",
      "0\n",
      "1\n",
      "0\n",
      "55\n"
     ]
    }
   ],
   "source": [
    "moneyTotransform = eval(input('enter money ls than 1$'))\n",
    "quarter = moneyTotransform // 25\n",
    "dimes = (moneyTotransform - (25*quarter)) // 10\n",
    "nickles = (moneyTotransform - (25*quarter) - (10 *dimes) )// 5\n",
    "pennies = (moneyTotransform - (25*quarter) - (10 *dimes) - (5*nickles) )// 1\n",
    "\n",
    "\n",
    "print(quarter)\n",
    "print(dimes)\n",
    "print(nickles)\n",
    "print(pennies)\n",
    "\n",
    "print(25 * quarter + 10 * dimes + 5 * nickles + pennies)"
   ]
  },
  {
   "cell_type": "code",
   "execution_count": 129,
   "metadata": {},
   "outputs": [
    {
     "name": "stdout",
     "output_type": "stream",
     "text": [
      "Enter the width5\n",
      "Enter the height3\n",
      "\n",
      "\n",
      "0    1    2    3    4    \n",
      "\n",
      "5    6    7    8    9    \n",
      "\n",
      "0    1    2    3    4    "
     ]
    }
   ],
   "source": [
    "w = int(input(\"Enter the width\"))\n",
    "h = int(input(\"Enter the height\"))\n",
    "\n",
    "for j in range(0,h*w):\n",
    "    if j % w == 0 :\n",
    "        print('\\n')\n",
    "    print((j) % 10,\"   \",end='')\n",
    "    \n",
    "    "
   ]
  }
 ],
 "metadata": {
  "kernelspec": {
   "display_name": "Python 3",
   "language": "python",
   "name": "python3"
  },
  "language_info": {
   "codemirror_mode": {
    "name": "ipython",
    "version": 3
   },
   "file_extension": ".py",
   "mimetype": "text/x-python",
   "name": "python",
   "nbconvert_exporter": "python",
   "pygments_lexer": "ipython3",
   "version": "3.8.5"
  }
 },
 "nbformat": 4,
 "nbformat_minor": 4
}
