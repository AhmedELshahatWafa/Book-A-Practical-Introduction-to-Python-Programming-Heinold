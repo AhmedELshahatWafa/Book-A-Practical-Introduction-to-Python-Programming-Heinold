{
 "cells": [
  {
   "cell_type": "code",
   "execution_count": 1,
   "metadata": {},
   "outputs": [
    {
     "name": "stdout",
     "output_type": "stream",
     "text": [
      "entr a temperature inCelsius:40\n",
      "in Fehrinheit this is 104.0\n"
     ]
    }
   ],
   "source": [
    "temp = eval(input('entr a temperature inCelsius:'))\n",
    "print('in Fehrinheit','this is', 9/5*temp +32)"
   ]
  },
  {
   "cell_type": "code",
   "execution_count": 2,
   "metadata": {},
   "outputs": [
    {
     "name": "stdout",
     "output_type": "stream",
     "text": [
      "onetwo\n"
     ]
    }
   ],
   "source": [
    "print('one','two',sep='')"
   ]
  },
  {
   "cell_type": "code",
   "execution_count": 9,
   "metadata": {},
   "outputs": [
    {
     "name": "stdout",
     "output_type": "stream",
     "text": [
      "*******************\n",
      "*******************\n",
      "*******************\n",
      "*******************\n"
     ]
    }
   ],
   "source": [
    "print('*'*19,'\\n','*'*19,'\\n','*'*19,'\\n','*'*19,sep='')"
   ]
  },
  {
   "cell_type": "code",
   "execution_count": 10,
   "metadata": {},
   "outputs": [
    {
     "name": "stdout",
     "output_type": "stream",
     "text": [
      "*******************\n",
      "*                 *\n",
      "*                 *\n",
      "*******************\n"
     ]
    }
   ],
   "source": [
    "print('*'*19,'\\n','*',' '*17,'*','\\n','*',' '*17,'*','\\n','*'*19,sep='')"
   ]
  },
  {
   "cell_type": "code",
   "execution_count": 11,
   "metadata": {},
   "outputs": [
    {
     "name": "stdout",
     "output_type": "stream",
     "text": [
      "*\n",
      "**\n",
      "***\n",
      "****\n"
     ]
    }
   ],
   "source": [
    "print('*','\\n','*'*2,'\\n','*'*3,'\\n','*'*4,sep='')"
   ]
  },
  {
   "cell_type": "code",
   "execution_count": 13,
   "metadata": {},
   "outputs": [
    {
     "name": "stdout",
     "output_type": "stream",
     "text": [
      "4.382621951219512\n"
     ]
    }
   ],
   "source": [
    "out =eval('(512-282)/(47.48+5)')\n",
    "print(out)"
   ]
  },
  {
   "cell_type": "code",
   "execution_count": 19,
   "metadata": {},
   "outputs": [
    {
     "name": "stdout",
     "output_type": "stream",
     "text": [
      "enter a number 5\n",
      "the square of 5 is 25.\n"
     ]
    }
   ],
   "source": [
    "num = int(input('enter a number '))\n",
    "print(f'the square of {num} ',f'is {num*num}','.',sep='')"
   ]
  },
  {
   "cell_type": "code",
   "execution_count": 20,
   "metadata": {},
   "outputs": [
    {
     "name": "stdout",
     "output_type": "stream",
     "text": [
      "Enter A number7\n",
      "7---14---21---28---35\n"
     ]
    }
   ],
   "source": [
    "num = eval(input('Enter A number'))\n",
    "print(f'{num}',f'{num*2}',f'{num*3}',f'{num*4}',f'{num*5}', sep='---')"
   ]
  },
  {
   "cell_type": "code",
   "execution_count": 22,
   "metadata": {},
   "outputs": [
    {
     "name": "stdout",
     "output_type": "stream",
     "text": [
      "enter your weight in kilograms 75\n",
      "your weight in pounds is 165.0\n"
     ]
    }
   ],
   "source": [
    "weight=eval(input('enter your weight in kilograms '))\n",
    "print('your weight in pounds is',weight*2.2)"
   ]
  },
  {
   "cell_type": "code",
   "execution_count": 23,
   "metadata": {},
   "outputs": [
    {
     "name": "stdout",
     "output_type": "stream",
     "text": [
      "Enter The First Num10\n",
      "Enter The Second Num20\n",
      "Enter The Third Num30\n",
      "total is 60 ,average is 20.0\n"
     ]
    }
   ],
   "source": [
    "x,y,z = eval(input('Enter The First Num')),eval(input('Enter The Second Num')),eval(input('Enter The Third Num'))\n",
    "total = x+y+z\n",
    "average = total/3\n",
    "print(f'total is {total} ,average is {average}')"
   ]
  },
  {
   "cell_type": "code",
   "execution_count": 25,
   "metadata": {},
   "outputs": [
    {
     "name": "stdout",
     "output_type": "stream",
     "text": [
      "price of the meal100\n",
      "enter the tip amount50\n",
      "tip amount 50.0 \n",
      " total bill 150.0\n"
     ]
    }
   ],
   "source": [
    "PriceOfTheMeal = eval(input('price of the meal'))\n",
    "tipAmount = eval(input('enter the tip amount'))\n",
    "tipValue =PriceOfTheMeal*tipAmount/100\n",
    "print('tip amount',tipValue,'\\n','total bill',PriceOfTheMeal+tipValue)"
   ]
  },
  {
   "cell_type": "code",
   "execution_count": null,
   "metadata": {},
   "outputs": [],
   "source": []
  }
 ],
 "metadata": {
  "kernelspec": {
   "display_name": "Python 3",
   "language": "python",
   "name": "python3"
  },
  "language_info": {
   "codemirror_mode": {
    "name": "ipython",
    "version": 3
   },
   "file_extension": ".py",
   "mimetype": "text/x-python",
   "name": "python",
   "nbconvert_exporter": "python",
   "pygments_lexer": "ipython3",
   "version": "3.8.5"
  }
 },
 "nbformat": 4,
 "nbformat_minor": 4
}
