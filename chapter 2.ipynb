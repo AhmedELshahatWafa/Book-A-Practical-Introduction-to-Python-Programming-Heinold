{
 "cells": [
  {
   "cell_type": "code",
   "execution_count": 1,
   "metadata": {},
   "outputs": [
    {
     "name": "stdout",
     "output_type": "stream",
     "text": [
      "hello\n",
      "hello\n",
      "hello\n",
      "hello\n",
      "hello\n",
      "hello\n",
      "hello\n",
      "hello\n",
      "hello\n",
      "hello\n"
     ]
    }
   ],
   "source": [
    "for i in range(10):\n",
    "    print('hello')"
   ]
  },
  {
   "cell_type": "code",
   "execution_count": 2,
   "metadata": {},
   "outputs": [
    {
     "name": "stdout",
     "output_type": "stream",
     "text": [
      "Enter a number:1\n",
      "The square of your number 1\n",
      "Enter a number:2\n",
      "The square of your number 4\n",
      "Enter a number:3\n",
      "The square of your number 9\n",
      "The loop is now done.\n"
     ]
    }
   ],
   "source": [
    "for i in range(3):\n",
    "    num = eval(input('Enter a number:'))\n",
    "    print ('The square of your number',num*num)\n",
    "print('The loop is now done.')"
   ]
  },
  {
   "cell_type": "code",
   "execution_count": 3,
   "metadata": {},
   "outputs": [
    {
     "name": "stdout",
     "output_type": "stream",
     "text": [
      "A\n",
      "B\n",
      "C\n",
      "D\n",
      "C\n",
      "D\n",
      "C\n",
      "D\n",
      "C\n",
      "D\n",
      "C\n",
      "D\n",
      "E\n"
     ]
    }
   ],
   "source": [
    "print('A')\n",
    "print('B')\n",
    "for i in range(5):\n",
    "    print('C')\n",
    "    print('D')\n",
    "print('E')"
   ]
  },
  {
   "cell_type": "code",
   "execution_count": 4,
   "metadata": {},
   "outputs": [
    {
     "name": "stdout",
     "output_type": "stream",
     "text": [
      "0\n",
      "1\n",
      "2\n",
      "3\n",
      "4\n",
      "5\n",
      "6\n",
      "7\n",
      "8\n",
      "9\n"
     ]
    }
   ],
   "source": [
    "for i in range(10):\n",
    "    print(i)"
   ]
  },
  {
   "cell_type": "code",
   "execution_count": 7,
   "metadata": {},
   "outputs": [
    {
     "name": "stdout",
     "output_type": "stream",
     "text": [
      "*\n",
      "**\n",
      "***\n",
      "****\n"
     ]
    }
   ],
   "source": [
    "for i in range(4):\n",
    "    print('*'*(i+1))"
   ]
  },
  {
   "cell_type": "code",
   "execution_count": 9,
   "metadata": {},
   "outputs": [
    {
     "name": "stdout",
     "output_type": "stream",
     "text": [
      "My Name\n"
     ]
    }
   ],
   "source": [
    "for i in range(100):\n",
    "    print(\"My Name\")"
   ]
  },
  {
   "cell_type": "code",
   "execution_count": 10,
   "metadata": {},
   "outputs": [
    {
     "name": "stdout",
     "output_type": "stream",
     "text": [
      "My Name My Name My Name My Name My Name My Name My Name My Name My Name My Name My Name My Name My Name My Name My Name My Name My Name My Name My Name My Name My Name My Name My Name My Name My Name My Name My Name My Name My Name My Name My Name My Name My Name My Name My Name My Name My Name My Name My Name My Name My Name My Name My Name My Name My Name My Name My Name My Name My Name My Name My Name My Name My Name My Name My Name My Name My Name My Name My Name My Name My Name My Name My Name My Name My Name My Name My Name My Name My Name My Name My Name My Name My Name My Name My Name My Name My Name My Name My Name My Name My Name My Name My Name My Name My Name My Name My Name My Name My Name My Name My Name My Name My Name My Name My Name My Name My Name My Name My Name My Name "
     ]
    }
   ],
   "source": [
    "for i in range(100):\n",
    "    print(\"My Name\",end=' ')"
   ]
  },
  {
   "cell_type": "code",
   "execution_count": 13,
   "metadata": {},
   "outputs": [
    {
     "name": "stdout",
     "output_type": "stream",
     "text": [
      "1 My Name\n",
      "2 My Name\n",
      "3 My Name\n",
      "4 My Name\n",
      "5 My Name\n",
      "6 My Name\n",
      "7 My Name\n",
      "8 My Name\n",
      "9 My Name\n",
      "10 My Name\n"
     ]
    }
   ],
   "source": [
    "for i in range(10):\n",
    "    print(i+1 ,\"My Name\")"
   ]
  },
  {
   "cell_type": "code",
   "execution_count": 16,
   "metadata": {},
   "outputs": [
    {
     "name": "stdout",
     "output_type": "stream",
     "text": [
      "1---1\n",
      "2---4\n",
      "3---9\n",
      "4---16\n",
      "5---25\n",
      "6---36\n",
      "7---49\n",
      "8---64\n",
      "9---81\n",
      "10---100\n",
      "11---121\n",
      "12---144\n",
      "13---169\n",
      "14---196\n",
      "15---225\n",
      "16---256\n",
      "17---289\n",
      "18---324\n",
      "19---361\n",
      "20---400\n"
     ]
    }
   ],
   "source": [
    "for i in range(20):\n",
    "    print(i+1, (i+1)*(i+1),sep='---')"
   ]
  },
  {
   "cell_type": "code",
   "execution_count": 20,
   "metadata": {},
   "outputs": [
    {
     "name": "stdout",
     "output_type": "stream",
     "text": [
      "8\n",
      "11\n",
      "14\n",
      "17\n",
      "20\n",
      "23\n",
      "26\n",
      "29\n",
      "32\n",
      "35\n",
      "38\n",
      "41\n",
      "44\n",
      "47\n",
      "50\n",
      "53\n",
      "56\n",
      "59\n",
      "62\n",
      "65\n",
      "68\n",
      "71\n",
      "74\n",
      "77\n",
      "80\n",
      "83\n",
      "86\n",
      "89\n"
     ]
    }
   ],
   "source": [
    "for i in range(8,90,3):\n",
    "    print(i)"
   ]
  },
  {
   "cell_type": "code",
   "execution_count": 25,
   "metadata": {},
   "outputs": [
    {
     "name": "stdout",
     "output_type": "stream",
     "text": [
      "10\n",
      "8\n",
      "6\n",
      "4\n",
      "2\n"
     ]
    }
   ],
   "source": [
    "for i in range(10,1,-2):\n",
    "    print(i)"
   ]
  },
  {
   "cell_type": "code",
   "execution_count": 34,
   "metadata": {},
   "outputs": [
    {
     "name": "stdout",
     "output_type": "stream",
     "text": [
      "AAAAAAAAAABBBBBBBCDCDCDCDEFFFFFFG"
     ]
    }
   ],
   "source": [
    "for i in range(10):\n",
    "    print('A',end='')\n",
    "for i in range(7):\n",
    "    print('B',end='')\n",
    "for i in range(4):\n",
    "    print('C',end='')\n",
    "    print('D',end='')\n",
    "print('E',end='')\n",
    "for i in range(6):\n",
    "    print('F',end='')\n",
    "print('G',end='')"
   ]
  },
  {
   "cell_type": "code",
   "execution_count": 35,
   "metadata": {},
   "outputs": [
    {
     "name": "stdout",
     "output_type": "stream",
     "text": [
      "Enter your Name:ahmed\n",
      "How many times:5\n",
      "ahmed\n",
      "ahmed\n",
      "ahmed\n",
      "ahmed\n",
      "ahmed\n"
     ]
    }
   ],
   "source": [
    "name ,times = input('Enter your Name:'), int(input('How many times:'))\n",
    "for i in range(times):\n",
    "    print(name)"
   ]
  },
  {
   "cell_type": "code",
   "execution_count": 47,
   "metadata": {},
   "outputs": [
    {
     "name": "stdout",
     "output_type": "stream",
     "text": [
      "How many fibonacci nums you want to print:10\n",
      "1\n",
      "1\n",
      "2\n",
      "3\n",
      "5\n",
      "8\n",
      "13\n",
      "21\n",
      "34\n",
      "55\n"
     ]
    }
   ],
   "source": [
    "times= int(input('How many fibonacci nums you want to print:'))\n",
    "lst = [1,1]\n",
    "print(lst[0])\n",
    "print(lst[1])\n",
    "for i in range(2,times):\n",
    "    lst.append(lst[i-1]+lst[i-2]) \n",
    "    print(lst[i])"
   ]
  },
  {
   "cell_type": "code",
   "execution_count": 51,
   "metadata": {},
   "outputs": [
    {
     "name": "stdout",
     "output_type": "stream",
     "text": [
      "enter ther width2\n",
      "enter ther height3\n",
      "\n",
      "\n",
      "**\n",
      "\n",
      "**\n",
      "\n",
      "**"
     ]
    }
   ],
   "source": [
    "width = int(input('enter ther width'))\n",
    "height =int(input('enter ther height'))\n",
    "for j in range(height):\n",
    "    print('\\n')\n",
    "    for i in range(width):\n",
    "        print('*',end='')\n",
    "    "
   ]
  },
  {
   "cell_type": "code",
   "execution_count": 138,
   "metadata": {},
   "outputs": [
    {
     "name": "stdout",
     "output_type": "stream",
     "text": [
      "enter ther width5\n",
      "enter ther height5\n",
      "\n",
      "*****\n",
      "*       *\n",
      "*       *\n",
      "*       *\n",
      "*****"
     ]
    }
   ],
   "source": [
    "width = int(input('enter ther width'))\n",
    "height =int(input('enter ther height'))\n",
    "for j in range(height):\n",
    "    print('\\n',end='')\n",
    "    if j==0:\n",
    "        for i in range(width):\n",
    "            print('*',end='')\n",
    "    elif j==height-1:\n",
    "        for i in range(width):\n",
    "            print('*',end='')\n",
    "    else :\n",
    "        print('*',' '*width ,'*',end='')"
   ]
  },
  {
   "cell_type": "code",
   "execution_count": 82,
   "metadata": {},
   "outputs": [
    {
     "name": "stdout",
     "output_type": "stream",
     "text": [
      "enter ther width5\n",
      "enter ther height5\n",
      "\n",
      "\n",
      "*\n",
      "\n",
      "**\n",
      "\n",
      "***\n",
      "\n",
      "****\n",
      "\n",
      "*****"
     ]
    }
   ],
   "source": [
    "width = int(input('enter ther width'))\n",
    "height =int(input('enter ther height'))\n",
    "for j in range(height):\n",
    "    print('\\n')\n",
    "    for i in range(j+1):\n",
    "        print('*',end='')"
   ]
  },
  {
   "cell_type": "code",
   "execution_count": 85,
   "metadata": {},
   "outputs": [
    {
     "name": "stdout",
     "output_type": "stream",
     "text": [
      "enter ther width5\n",
      "enter ther height5\n",
      "\n",
      "\n",
      "*****\n",
      "\n",
      "****\n",
      "\n",
      "***\n",
      "\n",
      "**\n",
      "\n",
      "*"
     ]
    }
   ],
   "source": [
    "width = int(input('enter ther width'))\n",
    "height =int(input('enter ther height'))\n",
    "for j in range(height):\n",
    "    print('\\n')\n",
    "    for i in range(height,j,-1):\n",
    "        print('*',end='')"
   ]
  },
  {
   "cell_type": "code",
   "execution_count": 139,
   "metadata": {},
   "outputs": [
    {
     "name": "stdout",
     "output_type": "stream",
     "text": [
      "enter ther width5\n",
      "enter ther height5\n",
      "\n",
      "   *\n",
      "  ***\n",
      " *****\n",
      "  ***\n",
      "   *"
     ]
    }
   ],
   "source": [
    "width = int(input('enter the width'))\n",
    "height =int(input('enter the height'))\n",
    "for j in range(0,height-1,2):\n",
    "    print('\\n',end='')\n",
    "    for i in range(0,height-j+1,2):\n",
    "        print(' ',end='')\n",
    "    for i in range(0,j+1,1):\n",
    "        print('*',end='')\n",
    "for j in range(height,0,-2):\n",
    "    print('\\n',end='')\n",
    "    for i in range(height-j+1,0,-2):\n",
    "        print(' ',end='')\n",
    "    for i in range(j):\n",
    "        print('*',end='')"
   ]
  },
  {
   "cell_type": "code",
   "execution_count": 160,
   "metadata": {},
   "outputs": [
    {
     "name": "stdout",
     "output_type": "stream",
     "text": [
      "enter the size9\n",
      "\n",
      "     *\n",
      "    * *\n",
      "   *****\n",
      "  *     *\n",
      " *       *"
     ]
    }
   ],
   "source": [
    "height =int(input('enter the size'))\n",
    "for j in range(0,height,2):\n",
    "    print('\\n',end='')\n",
    "    for i in range(0,height-j+1,2):\n",
    "        print(' ',end='')\n",
    "    for i in range(0,j+1,1):\n",
    "        if j ==int(height/2):\n",
    "            print('*',end='')\n",
    "            continue\n",
    "        if j+1 ==int(height/2):\n",
    "            print('*',end='')\n",
    "            continue\n",
    "        if i==0 : \n",
    "            print('*',end='')\n",
    "        elif i == j:\n",
    "            print('*',end='')\n",
    "        else:\n",
    "            print(' ',end='')"
   ]
  },
  {
   "cell_type": "code",
   "execution_count": null,
   "metadata": {},
   "outputs": [],
   "source": []
  },
  {
   "cell_type": "code",
   "execution_count": null,
   "metadata": {},
   "outputs": [],
   "source": []
  }
 ],
 "metadata": {
  "kernelspec": {
   "display_name": "Python 3",
   "language": "python",
   "name": "python3"
  },
  "language_info": {
   "codemirror_mode": {
    "name": "ipython",
    "version": 3
   },
   "file_extension": ".py",
   "mimetype": "text/x-python",
   "name": "python",
   "nbconvert_exporter": "python",
   "pygments_lexer": "ipython3",
   "version": "3.8.5"
  }
 },
 "nbformat": 4,
 "nbformat_minor": 4
}
