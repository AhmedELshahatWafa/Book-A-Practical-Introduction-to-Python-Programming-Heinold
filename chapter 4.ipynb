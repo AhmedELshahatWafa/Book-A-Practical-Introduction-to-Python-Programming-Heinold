{
 "cells": [
  {
   "cell_type": "code",
   "execution_count": 4,
   "metadata": {},
   "outputs": [
    {
     "name": "stdout",
     "output_type": "stream",
     "text": [
      "enter a length in cm : 10\n",
      "3.937007874015748\n"
     ]
    }
   ],
   "source": [
    "length = eval(input(\"enter a length in cm : \"))\n",
    "if lenght <= 0 :\n",
    "    print('entry invalid')\n",
    "else :\n",
    "    print(length/2.54)"
   ]
  },
  {
   "cell_type": "code",
   "execution_count": 12,
   "metadata": {},
   "outputs": [
    {
     "name": "stdout",
     "output_type": "stream",
     "text": [
      "enter a temp : 50\n",
      "enter type  C  or  F  :  c\n",
      "temp is  122.0 F\n"
     ]
    }
   ],
   "source": [
    "temp = eval(input(\"enter a temp : \"))\n",
    "tempType = input(\"enter type  C  or  F  :  \").upper()\n",
    "if tempType == 'C':\n",
    "    #to fehrnhiet\n",
    "    temp = (9/5)*temp + 32\n",
    "    tempType ='F'\n",
    "elif tempType == 'F':\n",
    "    temp = (5/9)*(temp - 32)\n",
    "    tempType ='C'\n",
    "    \n",
    "     \n",
    "print(f'temp is ' , temp,tempType) "
   ]
  },
  {
   "cell_type": "code",
   "execution_count": null,
   "metadata": {},
   "outputs": [],
   "source": [
    "## Easy"
   ]
  },
  {
   "cell_type": "code",
   "execution_count": 15,
   "metadata": {},
   "outputs": [
    {
     "name": "stdout",
     "output_type": "stream",
     "text": [
      "how many credits u have taken ? : 50\n",
      "sophomore\n"
     ]
    }
   ],
   "source": [
    "cred =  eval(input('how many credits u have taken ? : '))\n",
    "if cred <= 23:\n",
    "    print('fresh')\n",
    "elif  23 < cred <= 53 :\n",
    "    print('sophomore')\n",
    "elif 54 < cred <= 83:\n",
    "    print('junior')\n",
    "elif cred >= 84:\n",
    "    print('senior')\n"
   ]
  },
  {
   "cell_type": "code",
   "execution_count": 18,
   "metadata": {},
   "outputs": [
    {
     "name": "stdout",
     "output_type": "stream",
     "text": [
      "enter the first num5\n",
      "enter the sec num5\n",
      "close\n"
     ]
    }
   ],
   "source": [
    "num1 = eval(input('enter the first num'))\n",
    "num2 = eval(input('enter the sec num'))\n",
    "if abs(num1 - num2) <= 0.001 :\n",
    "    print('close')\n",
    "else:\n",
    "    print('not close')\n"
   ]
  },
  {
   "cell_type": "code",
   "execution_count": 21,
   "metadata": {},
   "outputs": [
    {
     "name": "stdout",
     "output_type": "stream",
     "text": [
      "enter a num30\n",
      "devisors are\n",
      "2\n",
      "3\n",
      "5\n",
      "6\n",
      "10\n",
      "15\n"
     ]
    }
   ],
   "source": [
    "x = eval(input('enter a num'))\n",
    "print('devisors are')\n",
    "for i in  range(2,x):\n",
    "    if x % i == 0:\n",
    "        print(i)\n"
   ]
  },
  {
   "cell_type": "code",
   "execution_count": 26,
   "metadata": {},
   "outputs": [
    {
     "name": "stdout",
     "output_type": "stream",
     "text": [
      "Question 6 x 8  =  5\n",
      "wrong\n",
      "Question 7 x 3  =  5\n",
      "wrong\n"
     ]
    }
   ],
   "source": [
    "import random as rand\n",
    "for i in range(1,3):\n",
    "    r1 = rand.randint(0,10)\n",
    "    r2 = rand.randint(0,10)\n",
    "    mul = r1 * r2 \n",
    "    if eval(input(f'Question {r1} x {r2}  =  ')) == mul:\n",
    "        print('right!!!')\n",
    "    else:\n",
    "        print('wrong')\n"
   ]
  },
  {
   "cell_type": "code",
   "execution_count": 32,
   "metadata": {},
   "outputs": [
    {
     "name": "stdout",
     "output_type": "stream",
     "text": [
      "Enter hour10\n",
      "am (0) bm (1)0\n",
      "how many hours ahead3\n",
      "1   bm\n"
     ]
    }
   ],
   "source": [
    "hour = eval(input('Enter hour'))\n",
    "amOrBm= eval(input(f'am (0) bm (1)'))\n",
    "hmHours = eval(input('how many hours ahead'))\n",
    "\n",
    "hour += hmHours \n",
    "if hour > 12:\n",
    "    hour = hour -12\n",
    "    amOrBm = int(not amOrBm)\n",
    "print(hour ,' ', 'am'if amOrBm == 0 else 'bm')"
   ]
  },
  {
   "cell_type": "code",
   "execution_count": 39,
   "metadata": {},
   "outputs": [
    {
     "name": "stdout",
     "output_type": "stream",
     "text": [
      "177\n",
      "2\n",
      "3\n",
      "2\n"
     ]
    }
   ],
   "source": [
    "#x % 5 = 2 \n",
    "#x % 6 = 3\n",
    "#x % 7 = 2\n",
    "con = ''\n",
    "iterator = 0\n",
    "while con != 'done'  :\n",
    "    if iterator % 5 == 2 and iterator % 6 == 3 and iterator % 7 == 2:\n",
    "        print(iterator)\n",
    "        con = 'done'\n",
    "    iterator += 1\n",
    "    \n",
    "print(177 % 5)\n",
    "print(177 % 6) \n",
    "print(177 % 7) "
   ]
  },
  {
   "cell_type": "code",
   "execution_count": 49,
   "metadata": {},
   "outputs": [
    {
     "name": "stdout",
     "output_type": "stream",
     "text": [
      "enter R or P or S : P\n",
      "enter R or P or S : P\n",
      "enter R or P or S : P\n",
      "enter R or P or S : P\n",
      "enter R or P or S : P\n",
      "cpu score is  2 \n",
      " user score is 2\n",
      "Draw\n"
     ]
    }
   ],
   "source": [
    "lst = ['R','P','S']\n",
    "\n",
    "cpu = ''\n",
    "cpuScore = 0 \n",
    "usrScore = 0\n",
    "usr = ''\n",
    "\n",
    "for i in range(5):\n",
    "    usr = input('enter R or P or S : ')\n",
    "    cpu = rand.choice(lst)\n",
    "    if cpu == 'R' and usr == 'S':\n",
    "        cpuScore += 1 \n",
    "    elif cpu == 'S' and usr == 'P':\n",
    "        cpuScore += 1\n",
    "    elif cpu == 'P' and usr == 'R':\n",
    "        cpuScore += 1\n",
    "    elif usr == 'R' and cpu == 'S':\n",
    "        usrScore += 1 \n",
    "    elif usr == 'S' and cpu == 'P':\n",
    "        usrScore += 1\n",
    "    elif usr == 'P' and cpu == 'R':\n",
    "        usrScore += 1\n",
    "    \n",
    "print('cpu score is ', cpuScore ,'\\n','user score is' ,usrScore)\n",
    "if cpuScore > usrScore :\n",
    "    print('cpu wins')\n",
    "elif cpuScore > usrScore :\n",
    "    print('user wins')\n",
    "elif cpuScore == usrScore:\n",
    "    print('Draw')\n",
    "    \n",
    "    "
   ]
  },
  {
   "cell_type": "code",
   "execution_count": null,
   "metadata": {},
   "outputs": [],
   "source": []
  },
  {
   "cell_type": "code",
   "execution_count": null,
   "metadata": {},
   "outputs": [],
   "source": []
  },
  {
   "cell_type": "code",
   "execution_count": null,
   "metadata": {},
   "outputs": [],
   "source": []
  },
  {
   "cell_type": "code",
   "execution_count": null,
   "metadata": {},
   "outputs": [],
   "source": []
  },
  {
   "cell_type": "code",
   "execution_count": null,
   "metadata": {},
   "outputs": [],
   "source": []
  }
 ],
 "metadata": {
  "kernelspec": {
   "display_name": "Python 3",
   "language": "python",
   "name": "python3"
  },
  "language_info": {
   "codemirror_mode": {
    "name": "ipython",
    "version": 3
   },
   "file_extension": ".py",
   "mimetype": "text/x-python",
   "name": "python",
   "nbconvert_exporter": "python",
   "pygments_lexer": "ipython3",
   "version": "3.8.5"
  }
 },
 "nbformat": 4,
 "nbformat_minor": 4
}
